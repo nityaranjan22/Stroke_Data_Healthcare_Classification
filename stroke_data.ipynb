{
 "metadata": {
  "language_info": {
   "codemirror_mode": {
    "name": "ipython",
    "version": 3
   },
   "file_extension": ".py",
   "mimetype": "text/x-python",
   "name": "python",
   "nbconvert_exporter": "python",
   "pygments_lexer": "ipython3",
   "version": "3.8.3-final"
  },
  "orig_nbformat": 2,
  "kernelspec": {
   "name": "python383jvsc74a57bd0f64a8d88044ea6e8b9b4473b6cc00917deebdd2903886a01edcc6e6200ba447c",
   "display_name": "Python 3.8.3 64-bit"
  },
  "metadata": {
   "interpreter": {
    "hash": "f64a8d88044ea6e8b9b4473b6cc00917deebdd2903886a01edcc6e6200ba447c"
   }
  }
 },
 "nbformat": 4,
 "nbformat_minor": 2,
 "cells": [
  {
   "cell_type": "code",
   "execution_count": 1,
   "metadata": {},
   "outputs": [],
   "source": [
    "import pandas as pd\n",
    "\n",
    "from sklearn.model_selection import train_test_split\n",
    "from sklearn.linear_model import LogisticRegression\n",
    "from sklearn.neighbors import KNeighborsClassifier\n",
    "from sklearn.ensemble import RandomForestClassifier\n",
    "\n",
    "from imblearn.over_sampling import RandomOverSampler\n",
    "\n",
    "from sklearn.metrics import classification_report"
   ]
  },
  {
   "cell_type": "code",
   "execution_count": 2,
   "metadata": {},
   "outputs": [],
   "source": [
    "df = pd.read_csv('healthcare-dataset-stroke-data.csv')"
   ]
  },
  {
   "cell_type": "code",
   "execution_count": 3,
   "metadata": {},
   "outputs": [],
   "source": [
    "#To predict anything, we do not need the id \n",
    "df.drop('id', axis = 1, inplace=True)"
   ]
  },
  {
   "cell_type": "code",
   "execution_count": 4,
   "metadata": {},
   "outputs": [],
   "source": [
    "#df['gender'].unique()\n",
    "#df['gender'] = df['gender'].replace(['Male', 'Female', 'Other'], [0,1,2])"
   ]
  },
  {
   "cell_type": "code",
   "execution_count": 5,
   "metadata": {},
   "outputs": [],
   "source": [
    "df['ever_married'].unique()\n",
    "df['ever_married'] = df['ever_married'].replace(['Yes', 'No'], [1,0])"
   ]
  },
  {
   "cell_type": "code",
   "execution_count": 6,
   "metadata": {},
   "outputs": [],
   "source": [
    "#df['work_type'].unique()\n",
    "#df['work_type'] = df['work_type'].replace(['Private', 'Self-employed', 'Govt_job', 'children', 'Never_worked'], [0,1,2,3,4])"
   ]
  },
  {
   "cell_type": "code",
   "execution_count": 7,
   "metadata": {},
   "outputs": [],
   "source": [
    "#df['Residence_type'].unique()\n",
    "#df['Residence_type'] = df['Residence_type'].replace(['Urban', 'Rural'], [1,0])"
   ]
  },
  {
   "cell_type": "code",
   "execution_count": 8,
   "metadata": {},
   "outputs": [],
   "source": [
    "#df['smoking_status'].unique()\n",
    "#df['smoking_status'] = df['smoking_status'].replace(['formerly smoked', 'never smoked', 'smokes', 'Unknown'], [0,1,2,3])"
   ]
  },
  {
   "cell_type": "code",
   "execution_count": 9,
   "metadata": {},
   "outputs": [],
   "source": [
    "df['bmi'] = df['bmi'].fillna(df['bmi'].mean())"
   ]
  },
  {
   "cell_type": "code",
   "execution_count": 10,
   "metadata": {},
   "outputs": [
    {
     "output_type": "execute_result",
     "data": {
      "text/plain": [
       "array([1, 0], dtype=int64)"
      ]
     },
     "metadata": {},
     "execution_count": 10
    }
   ],
   "source": [
    "df['stroke'].unique()"
   ]
  },
  {
   "cell_type": "code",
   "execution_count": 11,
   "metadata": {},
   "outputs": [],
   "source": [
    "temp_df = pd.get_dummies(df[['gender', 'work_type','Residence_type','smoking_status']], drop_first= True)\n",
    "\n",
    "df = pd.concat([df, temp_df], axis = 1)\n",
    "\n",
    "df.drop(['gender', 'work_type','Residence_type','smoking_status'], axis = 1, inplace=True)\n"
   ]
  },
  {
   "cell_type": "code",
   "execution_count": 12,
   "metadata": {},
   "outputs": [
    {
     "output_type": "execute_result",
     "data": {
      "text/plain": [
       "    age  hypertension  heart_disease  ever_married  avg_glucose_level  \\\n",
       "0  67.0             0              1             1             228.69   \n",
       "1  61.0             0              0             1             202.21   \n",
       "2  80.0             0              1             1             105.92   \n",
       "3  49.0             0              0             1             171.23   \n",
       "4  79.0             1              0             1             174.12   \n",
       "\n",
       "         bmi  stroke  gender_Male  gender_Other  work_type_Never_worked  \\\n",
       "0  36.600000       1            1             0                       0   \n",
       "1  28.893237       1            0             0                       0   \n",
       "2  32.500000       1            1             0                       0   \n",
       "3  34.400000       1            0             0                       0   \n",
       "4  24.000000       1            0             0                       0   \n",
       "\n",
       "   work_type_Private  work_type_Self-employed  work_type_children  \\\n",
       "0                  1                        0                   0   \n",
       "1                  0                        1                   0   \n",
       "2                  1                        0                   0   \n",
       "3                  1                        0                   0   \n",
       "4                  0                        1                   0   \n",
       "\n",
       "   Residence_type_Urban  smoking_status_formerly smoked  \\\n",
       "0                     1                               1   \n",
       "1                     0                               0   \n",
       "2                     0                               0   \n",
       "3                     1                               0   \n",
       "4                     0                               0   \n",
       "\n",
       "   smoking_status_never smoked  smoking_status_smokes  \n",
       "0                            0                      0  \n",
       "1                            1                      0  \n",
       "2                            1                      0  \n",
       "3                            0                      1  \n",
       "4                            1                      0  "
      ],
      "text/html": "<div>\n<style scoped>\n    .dataframe tbody tr th:only-of-type {\n        vertical-align: middle;\n    }\n\n    .dataframe tbody tr th {\n        vertical-align: top;\n    }\n\n    .dataframe thead th {\n        text-align: right;\n    }\n</style>\n<table border=\"1\" class=\"dataframe\">\n  <thead>\n    <tr style=\"text-align: right;\">\n      <th></th>\n      <th>age</th>\n      <th>hypertension</th>\n      <th>heart_disease</th>\n      <th>ever_married</th>\n      <th>avg_glucose_level</th>\n      <th>bmi</th>\n      <th>stroke</th>\n      <th>gender_Male</th>\n      <th>gender_Other</th>\n      <th>work_type_Never_worked</th>\n      <th>work_type_Private</th>\n      <th>work_type_Self-employed</th>\n      <th>work_type_children</th>\n      <th>Residence_type_Urban</th>\n      <th>smoking_status_formerly smoked</th>\n      <th>smoking_status_never smoked</th>\n      <th>smoking_status_smokes</th>\n    </tr>\n  </thead>\n  <tbody>\n    <tr>\n      <th>0</th>\n      <td>67.0</td>\n      <td>0</td>\n      <td>1</td>\n      <td>1</td>\n      <td>228.69</td>\n      <td>36.600000</td>\n      <td>1</td>\n      <td>1</td>\n      <td>0</td>\n      <td>0</td>\n      <td>1</td>\n      <td>0</td>\n      <td>0</td>\n      <td>1</td>\n      <td>1</td>\n      <td>0</td>\n      <td>0</td>\n    </tr>\n    <tr>\n      <th>1</th>\n      <td>61.0</td>\n      <td>0</td>\n      <td>0</td>\n      <td>1</td>\n      <td>202.21</td>\n      <td>28.893237</td>\n      <td>1</td>\n      <td>0</td>\n      <td>0</td>\n      <td>0</td>\n      <td>0</td>\n      <td>1</td>\n      <td>0</td>\n      <td>0</td>\n      <td>0</td>\n      <td>1</td>\n      <td>0</td>\n    </tr>\n    <tr>\n      <th>2</th>\n      <td>80.0</td>\n      <td>0</td>\n      <td>1</td>\n      <td>1</td>\n      <td>105.92</td>\n      <td>32.500000</td>\n      <td>1</td>\n      <td>1</td>\n      <td>0</td>\n      <td>0</td>\n      <td>1</td>\n      <td>0</td>\n      <td>0</td>\n      <td>0</td>\n      <td>0</td>\n      <td>1</td>\n      <td>0</td>\n    </tr>\n    <tr>\n      <th>3</th>\n      <td>49.0</td>\n      <td>0</td>\n      <td>0</td>\n      <td>1</td>\n      <td>171.23</td>\n      <td>34.400000</td>\n      <td>1</td>\n      <td>0</td>\n      <td>0</td>\n      <td>0</td>\n      <td>1</td>\n      <td>0</td>\n      <td>0</td>\n      <td>1</td>\n      <td>0</td>\n      <td>0</td>\n      <td>1</td>\n    </tr>\n    <tr>\n      <th>4</th>\n      <td>79.0</td>\n      <td>1</td>\n      <td>0</td>\n      <td>1</td>\n      <td>174.12</td>\n      <td>24.000000</td>\n      <td>1</td>\n      <td>0</td>\n      <td>0</td>\n      <td>0</td>\n      <td>0</td>\n      <td>1</td>\n      <td>0</td>\n      <td>0</td>\n      <td>0</td>\n      <td>1</td>\n      <td>0</td>\n    </tr>\n  </tbody>\n</table>\n</div>"
     },
     "metadata": {},
     "execution_count": 12
    }
   ],
   "source": [
    "df.head()"
   ]
  },
  {
   "cell_type": "code",
   "execution_count": 13,
   "metadata": {},
   "outputs": [],
   "source": [
    "#Now getting all X values(everything but the stroke column)\n",
    "X = df.drop('stroke', axis = 1)\n",
    "\n",
    "# the label is stroke\n",
    "y = df['stroke']"
   ]
  },
  {
   "cell_type": "code",
   "execution_count": 14,
   "metadata": {},
   "outputs": [],
   "source": [
    "sample = RandomOverSampler(sampling_strategy= 1)\n",
    "X_sam, y_sam = sample.fit_resample(X,y)"
   ]
  },
  {
   "cell_type": "code",
   "execution_count": 15,
   "metadata": {},
   "outputs": [],
   "source": [
    "X_train, X_test, y_train, y_test = train_test_split(X_sam, y_sam, test_size= 0.33)"
   ]
  },
  {
   "cell_type": "code",
   "execution_count": 16,
   "metadata": {},
   "outputs": [
    {
     "output_type": "stream",
     "name": "stdout",
     "text": [
      "0.7675288251791835\n",
      "              precision    recall  f1-score   support\n",
      "\n",
      "           0       0.79      0.73      0.76      1593\n",
      "           1       0.75      0.81      0.78      1616\n",
      "\n",
      "    accuracy                           0.77      3209\n",
      "   macro avg       0.77      0.77      0.77      3209\n",
      "weighted avg       0.77      0.77      0.77      3209\n",
      "\n",
      "C:\\Users\\nitya\\AppData\\Local\\Programs\\Python\\Python38\\lib\\site-packages\\sklearn\\linear_model\\_logistic.py:763: ConvergenceWarning: lbfgs failed to converge (status=1):\n",
      "STOP: TOTAL NO. of ITERATIONS REACHED LIMIT.\n",
      "\n",
      "Increase the number of iterations (max_iter) or scale the data as shown in:\n",
      "    https://scikit-learn.org/stable/modules/preprocessing.html\n",
      "Please also refer to the documentation for alternative solver options:\n",
      "    https://scikit-learn.org/stable/modules/linear_model.html#logistic-regression\n",
      "  n_iter_i = _check_optimize_result(\n"
     ]
    }
   ],
   "source": [
    "#First trying Logistic Regression (I don't think this is the best but still giving it a try)\n",
    "logistic_model = LogisticRegression()\n",
    "\n",
    "logistic_model.fit(X_train, y_train)\n",
    "logistic_predictions = logistic_model.predict(X_test)\n",
    "\n",
    "print(logistic_model.score(X_test,y_test))\n",
    "\n",
    "print(classification_report(y_test, logistic_predictions))\n",
    "\n",
    "# 76% isn't bad"
   ]
  },
  {
   "cell_type": "code",
   "execution_count": 17,
   "metadata": {},
   "outputs": [
    {
     "output_type": "stream",
     "name": "stdout",
     "text": [
      "For 1 neighbors, the accuracy is:\n",
      "0.9738236210657526\n",
      "For 2 neighbors, the accuracy is:\n",
      "0.9738236210657526\n",
      "For 3 neighbors, the accuracy is:\n",
      "0.9488937363664693\n",
      "For 4 neighbors, the accuracy is:\n",
      "0.9488937363664693\n",
      "For 5 neighbors, the accuracy is:\n",
      "0.9286382050483016\n",
      "For 6 neighbors, the accuracy is:\n",
      "0.9286382050483016\n",
      "For 7 neighbors, the accuracy is:\n",
      "0.908382673730134\n",
      "For 8 neighbors, the accuracy is:\n",
      "0.908382673730134\n",
      "For 9 neighbors, the accuracy is:\n",
      "0.8896852602056715\n",
      "\n",
      "\n",
      "The best neighbors=1 with accuracy=0.9738236210657526\n",
      "              precision    recall  f1-score   support\n",
      "\n",
      "           0       1.00      0.78      0.88      1593\n",
      "           1       0.82      1.00      0.90      1616\n",
      "\n",
      "    accuracy                           0.89      3209\n",
      "   macro avg       0.91      0.89      0.89      3209\n",
      "weighted avg       0.91      0.89      0.89      3209\n",
      "\n"
     ]
    }
   ],
   "source": [
    "#Trying KNN\n",
    "best_score = 0\n",
    "best_neighbors = 0\n",
    "best_predictions = 0\n",
    "for num in range(1,10):\n",
    "    knn = KNeighborsClassifier(n_neighbors= num)\n",
    "\n",
    "    knn.fit(X_train,y_train)\n",
    "    knn_predictions  = knn.predict(X_test)\n",
    "\n",
    "    print('For ' + str(num) + ' neighbors, the accuracy is:')\n",
    "    score = knn.score(X_test,y_test)\n",
    "    print(score)\n",
    "\n",
    "    if(score > best_score):\n",
    "        best_score = score\n",
    "        best_neighbors = num\n",
    "        best_predictions = knn_predictions\n",
    "\n",
    "print('\\n\\nThe best neighbors=' + str(best_neighbors) + ' with accuracy=' + str(best_score))\n",
    "\n",
    "print(classification_report(y_test, knn_predictions))\n",
    "#Not even better than logistic regression"
   ]
  },
  {
   "cell_type": "code",
   "execution_count": 18,
   "metadata": {},
   "outputs": [
    {
     "output_type": "stream",
     "name": "stdout",
     "text": [
      "0.9900280461202867\n              precision    recall  f1-score   support\n\n           0       1.00      0.98      0.99      1593\n           1       0.98      1.00      0.99      1616\n\n    accuracy                           0.99      3209\n   macro avg       0.99      0.99      0.99      3209\nweighted avg       0.99      0.99      0.99      3209\n\n"
     ]
    }
   ],
   "source": [
    "#Finally, we try Random Forest, I think this one should be the best\n",
    "\n",
    "rf = RandomForestClassifier()\n",
    "\n",
    "rf.fit(X_train, y_train)\n",
    "rf_predictions = rf.predict(X_test)\n",
    "\n",
    "print(rf.score(X_test, y_test))\n",
    "print(classification_report(y_test, rf_predictions))"
   ]
  },
  {
   "source": [
    "#We Can see that The random forest is giving us the best accuracy, with 99% accuracy."
   ],
   "cell_type": "markdown",
   "metadata": {}
  }
 ]
}
